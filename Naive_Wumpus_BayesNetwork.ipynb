{
 "cells": [
  {
   "cell_type": "markdown",
   "metadata": {},
   "source": [
    "# Wumpus variant Bayes Network \n",
    "---\n",
    "\n",
    "*©Alessandro D'Amico      \\|   May 2022*"
   ]
  },
  {
   "cell_type": "markdown",
   "metadata": {},
   "source": [
    "### Introduction\n",
    "The focus of this work is on the creation of a probabilistic model in the form of a Bayes Network that can allow us to take decisions in a setting affected by uncertainty. In this specific case, we analize a simplified version of the Wumpus Game, as described below.\n",
    "### Wumpus Game - a variant\n",
    "In this setting we consider:\n",
    "- a **single player**\n",
    "- the player is inside a grid of dimension **n x n** \n",
    "- the player can **move left,right,up,down**\n",
    "- the player has a certain number of **objectives** to reach (which we call *treasures*)\n",
    "- the player **mustn't fall inside prohibited cells**  (which we call *pits*) - if this happens, the player dies and the **game is over**.\n",
    "- In order to avoid falling in a *pit*, the player can take a decision on the basis of its perceptions: **in the left, right, up and down cells of the pit a danger is perceived** (which we call *breeze*) \n",
    "- **If the player finds a *tresure*, the game is won** and the match is finished. \n",
    "\n",
    "### An example of a use case - drone patrol\n",
    "To better understand a description of the use case, we can think of a flying drone searching for an item in a grid. If the drone finds the item its mission is completed with success, if instead it flies inside a no-fly zone (after a warning received during its approach), it is shot down and the mission is failed.\n",
    "\n",
    "### A probabilistic approach\n",
    "In a fully automatic approach we would just backtrack in safer cells when a danger is detected, but in most of the cases the player would just come back to the starting position's neighborhood. We want to avoid this behavior using the knowledge gained during the exploration of the table done by the player.\n",
    "\n",
    "Since the most important thing in the game is to avoid the loss/death of the player, I've focused my model on the probability of getting in a pit when visiting a new position of the grid. In order to do this it is necessary to **consider the probability of falling in a pit when going left, right, up and down** (n.b.: this is the most **complete case**, for instance if we're in the bottom-left corner we just need to consider this probability for the right and up position respectively to the actual position of the player).\n",
    "To compute the probability of getting into a *pit* I've exploited the structure of the *pit* itself: if this happens, the left, right, down and up cells are marked with *breeze*, unless there is a *treasure* or another *pit*.\n",
    "\n",
    "Taking into account these features, i've drawn the Bayes Newtork below :"
   ]
  },
  {
   "cell_type": "markdown",
   "metadata": {},
   "source": [
    "![My bayes network for wumpus](images/WumpusDiagram.png)"
   ]
  },
  {
   "cell_type": "markdown",
   "metadata": {},
   "source": [
    "This graph is an example that shows how the network should be built if we're interesting in knowing the probability of having a *pit* in (5,6) (row 5 column 6). The Black nodes in the intermediate levels are the neighbouring pits of the neighbouring nodes - notice that all of these black nodes should clearly influence even other nodes that, however, are not present in the graph: for instance, if there's a pit in (5,4), this will also influence the 4 nodes around (5,4) and not just (5,5). \n",
    "\n",
    "The reason behind the way i built the network (ignoring the other children of the parents of the children) is because we're only interested in querying about the probability of having a pit in the dark-red node, and to do that it is sufficient to consider the ***markov blanket*** of that node (that includes the parents of the queried node, the children and the parents of the children). In this way we build a new network every time we ask for the probability of having a *pit* in a different node. An alternative could have been considering all the possible states of each position in the grid:\n",
    "\n",
    "- safe\n",
    "- danger (*breeze*)\n",
    "- death (*pit*)\n",
    "- objective (*treasure*)\n",
    "\n",
    "and this for each of the nxn positions of the grid - the complexity of that structure is really high and the probabilities of falling in a *breeze* cell are not trivial, therefore i decided to avoid that kind of architecture.\n",
    "\n",
    "### Using evidence gained during the exploration of the table\n",
    "The more the player has traversed the table, the more evidence we can use to obtain the probability of having a *pit* in a certain node. Notice that we're considering just the knowledge we have about neighbouring cells, so if I actually know something about them i can inject it in my Bayes network as **evidence**, otherwise i just ask the network without any evidence: i've implemented this mechanism querying a dictionary that collects all the states in which i've found *breeze*.\n",
    "\n",
    "We make the assumption that the probability of having a *pit* in position (i,j) is $$P(pit_{(i,j)}) = \\frac{n_{pits}}{n_{unseen}}$$\n",
    "where $n_{pits}$ is the number of pits we decided to have in the table and $n_{unseen}$ is the number of positions in the board whose are still not visited (and whose state is unknown). When the game starts $n_{unseen} = (table_{size})^2 - 1$ because the player starts in a position (whose state can be both *breeze* or *safe*). $table_{size}$ is the size of the side of the table.\n",
    "\n",
    "The probability of having *breeze* in position (i,j) $P(breeze_{(i,j)})$ is instead way more complex and we can express it through the following table:"
   ]
  },
  {
   "cell_type": "markdown",
   "metadata": {},
   "source": [
    "| Pit(i,j)| Pit(i,j-1) | Pit(i,j+1) | Pit(i+1,j) | Pit(i-1,j) |  P(breeze(i,j) \\| Pit(i,j), Pit(i,j-1), Pit(i,j+1), Pit(i+1,j), Pit(i-1,j))|\n",
    "|:-:|:-:|:-:|:-:|:-:|:-:|\n",
    "| 0 | 0 | 0 | 0 | 0 | 0 |\n",
    "| 0 | 0 | 0 | 0 | 1 | 1-P(treasure) |\n",
    "| 0 | 0 | 0 | 1 | 0 | 1-P(treasure) |\n",
    "| 0 | 0 | 0 | 1 | 1 | 1-P(treasure) |\n",
    "| 0 | 0 | 1 | 0 | 0 | 1-P(treasure) |\n",
    "| 0 | 0 | 1 | 0 | 1 | 1-P(treasure) |\n",
    "| 0 | 0 | 1 | 1 | 0 | 1-P(treasure) |\n",
    "| 0 | 0 | 1 | 1 | 1 | 1-P(treasure) |\n",
    "| 0 | 1 | 0 | 0 | 0 | 1-P(treasure) |\n",
    "| 0 | 1 | 0 | 0 | 1 | 1-P(treasure) |\n",
    "| 0 | 1 | 0 | 1 | 0 | 1-P(treasure) |\n",
    "| 0 | 1 | 0 | 1 | 1 | 1-P(treasure) |\n",
    "| 0 | 1 | 1 | 0 | 0 | 1-P(treasure) |\n",
    "| 0 | 1 | 1 | 0 | 1 | 1-P(treasure) |\n",
    "| 0 | 1 | 1 | 1 | 0 | 1-P(treasure) |\n",
    "| 0 | 1 | 1 | 1 | 1 | 1-P(treasure) |\n",
    "| 1 | 0 | 0 | 0 | 0 | 0 |\n",
    "| 1 | 0 | 0 | 0 | 1 | 0 |\n",
    "| 1 | 0 | 0 | 1 | 0 | 0 |\n",
    "| 1 | 0 | 0 | 1 | 1 | 0 |\n",
    "| 1 | 0 | 1 | 0 | 0 | 0 |\n",
    "| 1 | 0 | 1 | 0 | 1 | 0 |\n",
    "| 1 | 0 | 1 | 1 | 0 | 0 |\n",
    "| 1 | 0 | 1 | 1 | 1 | 0 |\n",
    "| 1 | 1 | 0 | 0 | 0 | 0 |\n",
    "| 1 | 1 | 0 | 0 | 1 | 0 |\n",
    "| 1 | 1 | 0 | 1 | 0 | 0 |\n",
    "| 1 | 1 | 0 | 1 | 1 | 0 |\n",
    "| 1 | 1 | 1 | 0 | 0 | 0 |\n",
    "| 1 | 1 | 1 | 0 | 1 | 0 |\n",
    "| 1 | 1 | 1 | 1 | 0 | 0 |\n",
    "| 1 | 1 | 1 | 1 | 1 | 0 |\n"
   ]
  },
  {
   "cell_type": "markdown",
   "metadata": {},
   "source": [
    "In the first 16 rows we consider the case in which there's no *pit* in the corresponding position. Apart from the first row, in which we consider the event of having no pit in the 4 neighbouring positions (and consequently no *breeze* in that position), in the other cases we always have at least one of the 4 neighbouring position containing a *pit*. In those cases the probability is not precisely 1, because we have to consider the fact that during the table generation the *treasures* are placed after the *pits* and can actually replace a *breeze cell*, so the probability of having *breeze* will be $1-P(treasure)$, where $$P(treasure) = \\frac{n_{treasures}}{n_{unseen}}$$  \n",
    "Where $n_{treasures}$ is the total number of treasures we decided to have in the game board.\n",
    "\n",
    "In the last 16 rows we consider the case in which there's a *pit* in the corresponding position, in that case it is clearly not possible to find *breeze* because the states of the positions are mutually exclusive one eachother. "
   ]
  },
  {
   "cell_type": "markdown",
   "metadata": {},
   "source": [
    "### Creating and starting the game\n",
    "I've realized the full logic and GUI of the game. It's possible to create a new game providing the size of the table `table_size`, the number of pits that must be spawned in the game `n_pits` and the number of objectives `n_treasures`.\n",
    "The aim of this notebook is clearly not to be a game platform, but we're instead interested on the way we can use a Bayesian Network to decide in which direction we should go, according to the knowledge gained while navigating inside the table."
   ]
  },
  {
   "cell_type": "markdown",
   "metadata": {},
   "source": [
    "### Implementation of the game board (skip if you're not interested)"
   ]
  },
  {
   "cell_type": "code",
   "execution_count": 1,
   "metadata": {},
   "outputs": [],
   "source": [
    "%matplotlib inline\n",
    "from pgmpy.models import BayesianNetwork\n",
    "from pgmpy.factors.discrete import TabularCPD\n",
    "import numpy as np\n",
    "import matplotlib.pyplot as plt\n",
    "\n",
    "\n",
    "# TODO add move counter\n",
    "\n",
    "# functions to check if a position is on a border\n",
    "def up_border(table_size, i,j):\n",
    "    return (i==0)\n",
    "def down_border(table_size, i,j):\n",
    "    return (i == table_size-1)\n",
    "def left_border(table_size, i,j):\n",
    "    return (j == 0)\n",
    "def right_border(table_size, i,j):\n",
    "    return (j == table_size-1)\n",
    "\n",
    "# in this game 0==safe zone    1==danger zone    2==pit    5==treasure\n",
    "class Game:\n",
    "    '''\n",
    "    In this implementation, the class Game represents the gameboard for the modified Wupus game \n",
    "    having a board of dimension (table_size * table_size) containing n_pits pits, n_treasures treasures\n",
    "    and whose player starts in position (table_size-1,0).\n",
    "    \n",
    "    Creating a Game with 'example=False' a default (10*10) table with one pit in fixed position and 1 treasure \n",
    "    is generated \n",
    "    '''\n",
    "    \n",
    "    def __init__(self, table_size=10, n_pits=5, n_treasures=1, example=False):\n",
    "        print(\"## TABLE GENERATION ##\")\n",
    "        self.table_size = table_size\n",
    "        self.n_pits = n_pits\n",
    "        self.n_treasures = n_treasures\n",
    "        self.table = np.zeros((table_size,table_size))\n",
    "        self.visited = np.zeros((table_size, table_size), dtype=bool)\n",
    "        self.player_pos = [table_size-1,0]\n",
    "        self.visited[self.player_pos[0]][self.player_pos[1]] = True\n",
    "        self.visited_pos_breeze = {\"Breeze_\"+str((self.player_pos[0],self.player_pos[1])): int(self.table[self.player_pos[0]][self.player_pos[1]])}\n",
    "\n",
    "        if (example):\n",
    "            self.table[7][2] = 2\n",
    "            self.table[7][1] = 1\n",
    "            self.table[7][3] = 1\n",
    "            self.table[6][2] = 1\n",
    "            self.table[8][2] = 1\n",
    "            self.table[6][4] = 5\n",
    "        else:    \n",
    "            \n",
    "            #checking legality of parameters\n",
    "            if(self.n_pits + self.n_treasures + 1 > self.table_size**2):\n",
    "                raise Exception(\"chosen parameters are illegal\")\n",
    "            # setting player at defaul position in left bottom corner\n",
    "            self.set_table()\n",
    "            self.set_treasure()\n",
    "            \n",
    "        print(\"## GAME STARTED ##\")\n",
    "    \n",
    "    def get_legal_moves(self):\n",
    "        legal_moves = []\n",
    "        if (not up_border(self.table_size, self.player_pos[0],self.player_pos[1])):\n",
    "            legal_moves.append((self.player_pos[0]-1, self.player_pos[1]))\n",
    "        if (not down_border(self.table_size, self.player_pos[0],self.player_pos[1])):\n",
    "            legal_moves.append((self.player_pos[0]+1, self.player_pos[1]))\n",
    "        if (not left_border(self.table_size, self.player_pos[0],self.player_pos[1])):\n",
    "            legal_moves.append((self.player_pos[0],self.player_pos[1]-1))\n",
    "        if (not right_border(self.table_size, self.player_pos[0],self.player_pos[1])):\n",
    "            legal_moves.append((self.player_pos[0],self.player_pos[1]+1))\n",
    "        \n",
    "        return legal_moves\n",
    "    \n",
    "    def move_up(self):\n",
    "        \n",
    "        new_pos = (self.player_pos[0]-1,self.player_pos[1])\n",
    "        message = \"\"\n",
    "        \n",
    "        if (new_pos in self.get_legal_moves()):\n",
    "            self.player_pos[0] = new_pos[0]\n",
    "            message = self.check_position()\n",
    "            \n",
    "            # if the position wasn't visited, add it to the knowlegde base\n",
    "            if (not self.visited[new_pos[0]][new_pos[1]]):\n",
    "                self.visited_pos_breeze[\"Breeze_\"+str(new_pos)] = self.table[new_pos[0]][new_pos[1]]\n",
    "                self.visited[new_pos[0],new_pos[1]] = True\n",
    "            \n",
    "            plot_table(self, title=\"Move: up | \"+message)\n",
    "            \n",
    "        else:\n",
    "            raise Exception(\"this move (move up) is not legal!\")\n",
    "        \n",
    "        return self\n",
    "     \n",
    "    def move_down(self):\n",
    "        \n",
    "        new_pos = (self.player_pos[0]+1,self.player_pos[1])\n",
    "        message = \"\"        \n",
    "        if (new_pos in self.get_legal_moves()):\n",
    "            self.player_pos[0] = new_pos[0]         \n",
    "            message = self.check_position()\n",
    "            \n",
    "            # if the position wasn't visited, add it to the knowlegde base\n",
    "            if (not self.visited[new_pos[0]][new_pos[1]]):\n",
    "                self.visited_pos_breeze[\"Breeze_\"+str(new_pos)] = self.table[new_pos[0]][new_pos[1]]\n",
    "                self.visited[new_pos[0]][new_pos[1]] = True\n",
    "                \n",
    "            plot_table(self, title=\"Move: down | \"+message)\n",
    "            \n",
    "        else:\n",
    "            raise Exception(\"this move (move down) is not legal!\")\n",
    "            \n",
    "        return self\n",
    "    \n",
    "    def move_right(self):\n",
    "        \n",
    "        new_pos = (self.player_pos[0],self.player_pos[1]+1)\n",
    "        message =\"\"\n",
    "        \n",
    "        if (new_pos in self.get_legal_moves()):\n",
    "            self.player_pos[1] = new_pos[1]      \n",
    "            message = self.check_position()\n",
    "            \n",
    "            # if the position wasn't visited, add it to the knowlegde base\n",
    "            if (not self.visited[new_pos[0]][new_pos[1]]):\n",
    "                self.visited_pos_breeze[\"Breeze_\"+str(new_pos)] = self.table[new_pos[0]][new_pos[1]]\n",
    "                self.visited[new_pos[0]][new_pos[1]] = True\n",
    "            \n",
    "            plot_table(self, title=\"Move: right | \"+message)\n",
    "            \n",
    "        else:\n",
    "            raise Exception(\"this move (move right) is not legal!\")\n",
    "        \n",
    "        return self\n",
    "    \n",
    "    def move_left(self):\n",
    "        \n",
    "        new_pos = (self.player_pos[0],self.player_pos[1]-1)\n",
    "        message=\"\"\n",
    "        \n",
    "        if (new_pos in self.get_legal_moves()):\n",
    "            self.player_pos[1] = new_pos[1]\n",
    "            message = self.check_position()\n",
    "            \n",
    "            # if the position wasn't visited, add it to the knowlegde base\n",
    "            if (not self.visited[new_pos[0]][new_pos[1]]):\n",
    "                self.visited_pos_breeze[\"Breeze_\"+str(new_pos)] = self.table[new_pos[0]][new_pos[1]]\n",
    "                self.visited[new_pos[0]][new_pos[1]] = True\n",
    "                \n",
    "            plot_table(self, title=\"Move: left | \"+message)\n",
    "                \n",
    "        else:\n",
    "            raise Exception(\"this move (move left) is not legal!\")\n",
    "        \n",
    "        return self\n",
    "    \n",
    "    def check_position(self):\n",
    "        if (self.table[self.player_pos[0]][self.player_pos[1]] == 0):\n",
    "            return \" player is in SAFE zone \"\n",
    "        elif (self.table[self.player_pos[0]][self.player_pos[1]] == 1):\n",
    "            return \" player is in DANGER zone \"\n",
    "        elif (self.table[self.player_pos[0]][self.player_pos[1]] == 5):\n",
    "            raise Exception(\"## YOU WIN ## You fell into a pit\")\n",
    "        elif (self.table[self.player_pos[0]][self.player_pos[1]] == 2):\n",
    "            raise Exception(\"## GAME OVER ## You fell into a pit\")\n",
    "        else:\n",
    "            raise Exception(\"GAME CRASHED\")\n",
    "\n",
    "    \n",
    "    #generating table\n",
    "    def set_table(self): \n",
    "        for k in range(self.n_pits):\n",
    "            while(True):\n",
    "                rand_pos = np.random.randint(0,self.table_size,2)\n",
    "                if(any(rand_pos != self.player_pos) and self.table[rand_pos[0]][rand_pos[1]]!=2):\n",
    "                    break\n",
    "                    \n",
    "            self.table[rand_pos[0]][rand_pos[1]] = 2\n",
    "            \n",
    "            if (rand_pos[0]>0):\n",
    "                self.table[rand_pos[0]-1][rand_pos[1]] = max(self.table[rand_pos[0]-1][rand_pos[1]], 1)\n",
    "            if (rand_pos[0]<self.table_size-1):\n",
    "                self.table[rand_pos[0]+1][rand_pos[1]] = max(self.table[rand_pos[0]+1][rand_pos[1]], 1)\n",
    "            if (rand_pos[1]>0):\n",
    "                self.table[rand_pos[0]][rand_pos[1]-1] = max(self.table[rand_pos[0]][rand_pos[1]-1], 1)\n",
    "            if (rand_pos[1]<self.table_size-1):\n",
    "                self.table[rand_pos[0]][rand_pos[1]+1] = max(self.table[rand_pos[0]][rand_pos[1]+1], 1)\n",
    "\n",
    "        return self.table\n",
    "    \n",
    "    #setting treasure\n",
    "    def set_treasure(self):\n",
    "        for k in range(self.n_treasures):\n",
    "            while(True):\n",
    "                rand_pos =np.random.randint(0,self.table_size,2)\n",
    "                if(any(rand_pos != self.player_pos) and self.table[rand_pos[0]][rand_pos[1]]!=2 and self.table[rand_pos[0]][rand_pos[1]]!=5):\n",
    "                    break\n",
    "\n",
    "            self.table[rand_pos[0]][rand_pos[1]]= 5\n",
    "\n",
    "        return self.table\n",
    "\n",
    "\n",
    "def plot_table(game, title=\"None\"):\n",
    "    table = game.table\n",
    "    player_pos = game.player_pos\n",
    "    \n",
    "    fig, ax = plt.subplots(1,1) #figsize=(5,5)\n",
    "    fig.suptitle(title, fontsize=12)\n",
    "    ax.imshow(table, cmap='Greys', origin='upper', vmin=0, vmax=5.)\n",
    "\n",
    "    # Major ticks every 20, minor ticks every 5\n",
    "    major_ticks = np.arange(0, game.table_size, 1)\n",
    "    minor_ticks = np.arange(0.5, game.table_size, 0.5)\n",
    "\n",
    "    ax.set_xticks(major_ticks)\n",
    "    ax.set_xticks(minor_ticks, minor=True)\n",
    "    ax.set_yticks(major_ticks)\n",
    "    ax.set_yticks(minor_ticks, minor=True)\n",
    "    ax.plot(player_pos[1], player_pos[0], marker=\"o\", markersize=15, markeredgecolor=\"red\", markerfacecolor=\"orange\")\n",
    "    \n",
    "    for i in range(0,game.visited.shape[0]):\n",
    "        for j in range(0,game.visited.shape[1]):\n",
    "            if (game.visited[i][j]):\n",
    "                ax.plot(j, i, marker=\"o\", markersize=5, markeredgecolor=\"blue\", markerfacecolor=\"red\")\n",
    "    \n",
    "    # And a corresponding grid\n",
    "    ax.grid(which='minor', color='k')\n",
    "    plt.show()"
   ]
  },
  {
   "cell_type": "markdown",
   "metadata": {},
   "source": [
    "### Implementation of player's decision engine\n",
    "Here follows the implementation of the mechanism used to automatically generate the probability of falling in a pit in a given target position on the basis of the knowledge gained in the previously visited states. I've used the library `pgmpy` to represent the probability tables, generate the nodes with the corresponding arcs and finally query the built network."
   ]
  },
  {
   "cell_type": "code",
   "execution_count": 2,
   "metadata": {},
   "outputs": [],
   "source": [
    "from pgmpy.inference import VariableElimination\n",
    "#from pgmpy.inference import ApproxInference\n",
    "from pgmpy.sampling import BayesianModelSampling\n",
    "import networkx as nx\n",
    "import pylab\n",
    "\n",
    "def prob_LW(samples,variable):\n",
    "    return round(np.sum(np.dot(samples[variable],samples['_weight']))/(np.sum(samples['_weight'])+(np.finfo(np.float64).tiny)),2)\n",
    "\n",
    "\n",
    "def get_bayesnet_by_node(game, target, print_verbose=False, inference_type=\"exact\", n_samples = 10000):\n",
    "    '''\n",
    "    This function implements the Bayes Network to calculate the probability of having a pit in a target position\n",
    "    of the modified Wumpus game.\n",
    "    \n",
    "    input:\n",
    "        target: the position (x,y) for which the probability of having a pit has to be computed\n",
    "        print_verbose: set to True if ypu want to see the CPDs and the corresponding BN graph\n",
    "        inference_type: \"exact\" for exact inference, \"approx\" for Likelihood Weighting inference\n",
    "        n_samples: the number of samples to use when inexact inference is used\n",
    "    \n",
    "    output:\n",
    "        The probability of having a pit in target position P(target=pit)\n",
    "    \n",
    "    '''\n",
    "    if(print_verbose):\n",
    "        print(\"###### COMPUTING PROBABILITY OF HAVING A PIT IN POSITION {} ######\".format(target))\n",
    "    \n",
    "    if ((target[0]<0) or (target[0]>game.table_size) or (target[1]<0) or (target[1]>game.table_size)):\n",
    "        raise Exception(\"the target cell \"+ str(target)+\" is outside the table, which dimension is \"+ str((game.table_size,game.table_size)))\n",
    "\n",
    "\n",
    "        \n",
    "    table_size = game.table_size\n",
    "    n_pits = game.n_pits\n",
    "    table = game.table\n",
    "\n",
    "    i= target[0]\n",
    "    j= target[1]\n",
    "    \n",
    "    n_unseen_cells = (table_size)**2 - np.count_nonzero(game.visited) \n",
    "    \n",
    "    # probability of having a pit in one position\n",
    "    p_pit = float(n_pits/n_unseen_cells)\n",
    "    \n",
    "    # probability of having a treasure in one position\n",
    "    p_treasure = float(game.n_treasures /n_unseen_cells) \n",
    "    \n",
    "    down = (i+1,j)\n",
    "    up =  (i-1,j)\n",
    "    left = (i,j-1)\n",
    "    right = (i,j+1)\n",
    "\n",
    "    # exit if the value of the cell is already known (already visited)\n",
    "    if ((\"Breeze_\"+str(target)) in game.visited_pos_breeze.keys()):\n",
    "        if(print_verbose):\n",
    "            print(\"# Node already visited #\")\n",
    "        return game.visited_pos_breeze[(\"Breeze_\"+str(target))]\n",
    "\n",
    "    \n",
    "    # exit if probability of falling in a pit is 1 or 0 (in that case other computations are meaningless)\n",
    "    if (p_pit == (1 or 0)):\n",
    "        return p_pit\n",
    "    \n",
    "    # adding the cpd of the cell asked by the query\n",
    "    cpds={TabularCPD(variable=\"Pit_\"+str(target), variable_card=2, values=[[1-p_pit], [p_pit]])}\n",
    "    arcs = []\n",
    "    pos_to_check= set()\n",
    "    pos_to_check.add(\"Breeze_\"+str((target[0],target[1])))\n",
    "    \n",
    "    if (left_border(game.table_size,target[0], target[1]) is False):\n",
    "        \n",
    "        # left node (i,j-1)\n",
    "        son_parents = []\n",
    "        \n",
    "        # considering the probability of having a pit also in the left position\n",
    "        arcs.append((\"Pit_\"+str(left), \"Breeze_\"+str(left)))\n",
    "        son_parents.append(\"Pit_\"+str(left))\n",
    "        cpds.add(TabularCPD(variable=\"Pit_\"+str(left), variable_card=2, values=[[1-p_pit], [p_pit]]))\n",
    "        \n",
    "        # adding the cell in left position \n",
    "        arcs.append((\"Pit_\"+str(target),\"Breeze_\"+str(left)))\n",
    "        son_parents.append(\"Pit_\"+str(target))\n",
    "        pos_to_check.add(\"Breeze_\"+str(left))\n",
    "        \n",
    "        # connections of the left node\n",
    "        if (left_border(game.table_size, left[0],left[1]) is False):\n",
    "            arcs.append((\"Pit_\"+str((i,j-2)),\"Breeze_\"+str(left))) #left \n",
    "            son_parents.append(\"Pit_\"+str((i,j-2)))\n",
    "            cpds.add(TabularCPD(variable=\"Pit_\"+str((i,j-2)), variable_card=2, values=[[1-p_pit],[p_pit]]))\n",
    "        if (up_border(game.table_size, left[0], left[1]) is False):\n",
    "            arcs.append((\"Pit_\"+str((i-1,j-1)),\"Breeze_\"+str(left))) #up  \n",
    "            son_parents.append(\"Pit_\"+str((i-1,j-1)))\n",
    "            cpds.add(TabularCPD(variable=\"Pit_\"+str((i-1,j-1)), variable_card=2, values=[[1-p_pit], [p_pit]]))\n",
    "        if (down_border(game.table_size,left[0],left[1]) is False):\n",
    "            arcs.append((\"Pit_\"+str((i+1,j-1)),\"Breeze_\"+str(left))) #down\n",
    "            son_parents.append(\"Pit_\"+str((i+1,j-1)))\n",
    "            cpds.add(TabularCPD(variable=\"Pit_\"+str((i+1,j-1)), variable_card=2, values=[[1-p_pit], [p_pit]]))\n",
    "\n",
    "        cpd_left = TabularCPD(\n",
    "            variable=\"Breeze_\"+str(left),\n",
    "            variable_card=2,\n",
    "            values=[[1] + ([p_treasure]*(int((2**len(son_parents))/2) - 1)) + ([1]*int(((2**len(son_parents))/2))) , # case breeze  = false                    [0] + ([1]*(int((2**len(son_parents))/2) - 1)) + ([0]*int(((2**len(son_parents))/2)))], # case breeze = true\n",
    "                    [0] + ([1-p_treasure]*(int((2**len(son_parents))/2) - 1)) + ([0]*int(((2**len(son_parents))/2)))],\n",
    "            evidence=son_parents,\n",
    "            evidence_card=[2]*len(son_parents),\n",
    "        )\n",
    "\n",
    "        cpds.add(cpd_left)\n",
    "\n",
    "    if (right_border(game.table_size,target[0], target[1]) is False):\n",
    "        \n",
    "        # right node (i,j+1)  \n",
    "        son_parents = []\n",
    "        \n",
    "        # considering the probability of having a pit also in the right position\n",
    "        arcs.append((\"Pit_\"+str(right), \"Breeze_\"+str(right)))\n",
    "        son_parents.append(\"Pit_\"+str(right))\n",
    "        cpds.add(TabularCPD(variable=\"Pit_\"+str(right), variable_card=2, values=[[1-p_pit], [p_pit]]))\n",
    "        \n",
    "        # adding the cell in right position\n",
    "        arcs.append((\"Pit_\"+str(target),\"Breeze_\"+str(right)))\n",
    "        son_parents.append (\"Pit_\"+str(target))\n",
    "        pos_to_check.add(\"Breeze_\"+str(right))\n",
    "        \n",
    "        # connections of the right node\n",
    "        if(down_border(game.table_size, right[0], right[1]) is False):\n",
    "            arcs.append((\"Pit_\"+str((i+1,j+1)),\"Breeze_\"+str(right))) #down\n",
    "            son_parents.append(\"Pit_\"+str((i+1,j+1)))\n",
    "            cpds.add(TabularCPD(variable=\"Pit_\"+str((i+1,j+1)), variable_card=2, values=[[1-p_pit], [p_pit]]))\n",
    "        if(up_border(game.table_size, right[0], right[1]) is False):\n",
    "            arcs.append((\"Pit_\"+str((i-1,j+1)),\"Breeze_\"+str(right))) #up\n",
    "            son_parents.append(\"Pit_\"+str((i-1,j+1)))\n",
    "            cpds.add(TabularCPD(variable=\"Pit_\"+str((i-1,j+1)), variable_card=2, values=[[1-p_pit], [p_pit]]))\n",
    "        if(right_border(game.table_size, right[0], right[1]) is False):\n",
    "            arcs.append((\"Pit_\"+str((i,j+2)),\"Breeze_\"+str(right))) #right\n",
    "            son_parents.append(\"Pit_\"+str((i,j+2)))\n",
    "            cpds.add(TabularCPD(variable=\"Pit_\"+str((i,j+2)), variable_card=2, values=[[1-p_pit], [p_pit]]))\n",
    "            \n",
    "        cpd_right = TabularCPD(\n",
    "            variable=\"Breeze_\"+str(right),\n",
    "            variable_card=2,\n",
    "            values=[[1] + ([p_treasure]*(int((2**len(son_parents))/2) - 1)) + ([1]*int(((2**len(son_parents))/2))) ,  # case breeze  = false\n",
    "                    [0] + ([1-p_treasure]*(int((2**len(son_parents))/2) - 1)) + ([0]*int(((2**len(son_parents))/2)))],\n",
    "            evidence=son_parents,\n",
    "            evidence_card=[2]*len(son_parents),\n",
    "        )\n",
    "\n",
    "        \n",
    "        cpds.add(cpd_right)\n",
    "\n",
    "    if (up_border(game.table_size,target[0], target[1]) is False):\n",
    "        \n",
    "        # up node (i-1,j)\n",
    "        son_parents = []\n",
    "        \n",
    "        # considering the probability of having a pit also in the up position\n",
    "        arcs.append((\"Pit_\"+str(up), \"Breeze_\"+str(up)))\n",
    "        son_parents.append(\"Pit_\"+str(up))\n",
    "        cpds.add(TabularCPD(variable=\"Pit_\"+str(up), variable_card=2, values=[[1-p_pit], [p_pit]]))\n",
    "        \n",
    "        # adding the cell in up position\n",
    "        arcs.append((\"Pit_\"+str(target),\"Breeze_\"+str(up)))\n",
    "        son_parents.append(\"Pit_\"+str(target))\n",
    "        pos_to_check.add(\"Breeze_\"+str(up))\n",
    "        \n",
    "        # connections of the up node\n",
    "        if(up_border(game.table_size, up[0],up[1]) is False):\n",
    "            arcs.append((\"Pit_\"+str((i-2,j)),\"Breeze_\"+str(up))) #up\n",
    "            son_parents.append(\"Pit_\"+str((i-2,j)))\n",
    "            cpds.add(TabularCPD(variable=\"Pit_\"+str((i-2,j)), variable_card=2, values=[[1-p_pit], [p_pit]]))\n",
    "        if(left_border(game.table_size, up[0],up[1]) is False):\n",
    "            arcs.append((\"Pit_\"+str((i-1,j-1)),\"Breeze_\"+str(up))) #left\n",
    "            son_parents.append(\"Pit_\"+str((i-1,j-1)))\n",
    "            cpds.add(TabularCPD(variable=\"Pit_\"+str((i-1,j-1)), variable_card=2, values=[[1-p_pit], [p_pit]]))\n",
    "        if(right_border(game.table_size, up[0],up[1]) is False):\n",
    "            arcs.append((\"Pit_\"+str((i-1,j+1)),\"Breeze_\"+str(up))) #right\n",
    "            son_parents.append(\"Pit_\"+str((i-1,j+1)))\n",
    "            cpds.add(TabularCPD(variable=\"Pit_\"+str((i-1,j+1)), variable_card=2, values=[[1-p_pit], [p_pit]]))\n",
    "\n",
    "        cpd_up = TabularCPD(\n",
    "            variable=\"Breeze_\"+str(up),\n",
    "            variable_card=2,\n",
    "            values=[[1] + ([p_treasure]*(int((2**len(son_parents))/2) - 1)) + ([1]*int(((2**len(son_parents))/2))) , # case breeze  = false                    [0] + ([1]*(int((2**len(son_parents))/2) - 1)) + ([0]*int(((2**len(son_parents))/2)))], # case breeze = true\n",
    "                    [0] + ([1-p_treasure]*(int((2**len(son_parents))/2) - 1)) + ([0]*int(((2**len(son_parents))/2)))],\n",
    "            evidence=son_parents,\n",
    "            evidence_card=[2]*len(son_parents),\n",
    "        )\n",
    "\n",
    "        cpds.add(cpd_up)\n",
    "\n",
    "    if (down_border(game.table_size,target[0], target[1]) is False):\n",
    "        \n",
    "        #down (i+1,j)\n",
    "        son_parents = []\n",
    "        \n",
    "        # considering the probability of having a pit also in the down position\n",
    "        arcs.append((\"Pit_\"+str(down), \"Breeze_\"+str(down)))\n",
    "        son_parents.append(\"Pit_\"+str(down))\n",
    "        cpds.add(TabularCPD(variable=\"Pit_\"+str(down), variable_card=2, values=[[1-p_pit], [p_pit]]))\n",
    "        \n",
    "        # adding the cell in down position\n",
    "        arcs.append((\"Pit_\"+str(target),\"Breeze_\"+str(down))) # sotto\n",
    "        son_parents.append(\"Pit_\"+str(target))\n",
    "        pos_to_check.add(\"Breeze_\"+ str(down))\n",
    "        \n",
    "        # connections of the down node\n",
    "        if(left_border(game.table_size,down[0],down[1]) is False):\n",
    "            arcs.append((\"Pit_\"+str((i+1,j-1)),\"Breeze_\"+str(down))) #left\n",
    "            son_parents.append(\"Pit_\"+str((i+1,j-1)))\n",
    "            cpds.add(TabularCPD(variable=\"Pit_\"+str((i+1,j-1)), variable_card=2, values=[[1-p_pit], [p_pit]]))\n",
    "        if(right_border(game.table_size,down[0],down[1]) is False):\n",
    "            arcs.append((\"Pit_\"+str((i+1,j+1)),\"Breeze_\"+str(down))) #right\n",
    "            son_parents.append(\"Pit_\"+str((i+1,j+1)))\n",
    "            cpds.add(TabularCPD(variable=\"Pit_\"+str((i+1,j+1)), variable_card=2, values=[[1-p_pit], [p_pit]]))\n",
    "        if(down_border(game.table_size,down[0],down[1]) is False):\n",
    "            arcs.append((\"Pit_\"+str((i+2,j)),\"Breeze_\"+str(down))) #down\n",
    "            son_parents.append(\"Pit_\"+str((i+2,j)))\n",
    "            cpds.add(TabularCPD(variable=\"Pit_\"+str((i+2,j)), variable_card=2, values=[[1-p_pit], [p_pit]]))\n",
    "\n",
    "        cpd_down = TabularCPD(\n",
    "            variable=\"Breeze_\"+str(down),\n",
    "            variable_card=2,\n",
    "            values=[[1] + ([p_treasure]*(int((2**len(son_parents))/2) - 1)) + ([1]*int(((2**len(son_parents))/2))) , # case breeze  = false\n",
    "                    [0] + ([1-p_treasure]*(int((2**len(son_parents))/2) - 1)) + ([0]*int(((2**len(son_parents))/2)))],\n",
    "            evidence=son_parents,\n",
    "            evidence_card=[2]*len(son_parents),\n",
    "        )\n",
    "\n",
    "        cpds.add(cpd_down)\n",
    "    \n",
    "    # Adding all the arcs to the BN\n",
    "    model = BayesianNetwork(arcs)\n",
    "\n",
    "    # Adding all the cpds (node-tables) to the BN\n",
    "    model.add_cpds(*cpds)\n",
    "    \n",
    "    # Checking if the cpds are valid to build a BN.\n",
    "    model.check_model() \n",
    "    \n",
    "    if (print_verbose):\n",
    "        print(model)\n",
    "        # Associating the parameters with the model structure.\n",
    "        \n",
    "        for i in cpds:\n",
    "            print(i)\n",
    "    \n",
    "        nx.draw(model, with_labels=True)\n",
    "        pylab.show()\n",
    "    \n",
    "    \n",
    "    if(inference_type == 'exact'):\n",
    "        inference = VariableElimination(model)\n",
    "        \n",
    "        # checking if positions in pos_to_check are already in game.pos_visited_breeze, add them to evidence in that case \n",
    "        my_evidence = {key:game.visited_pos_breeze.get(key) for key in pos_to_check \n",
    "                       if key in game.visited_pos_breeze.keys()}\n",
    "        query = inference.query([\"Pit_\"+str(target)] , evidence = my_evidence, show_progress = print_verbose)\n",
    "    \n",
    "    elif(inference_type =='approx'):\n",
    "        inference = BayesianModelSampling(model)\n",
    "       \n",
    "        # checking if positions in pos_to_check are already in game.pos_visited_breeze, add them to evidence in that case \n",
    "        my_evidence = {key:game.visited_pos_breeze.get(key) for key in pos_to_check \n",
    "                       if key in game.visited_pos_breeze.keys()}\n",
    "        #query = inference.query([\"Pit_\"+str(target)] , n_samples = n_samples,  evidence = my_evidence, show_progress = print_verbose)    \n",
    "        query = prob_LW(inference.likelihood_weighted_sample(evidence = list(my_evidence.items()), size=n_samples, show_progress=print_verbose), \"Pit_\"+str(target))\n",
    "        \n",
    "    if(print_verbose):\n",
    "        print(query)\n",
    "    \n",
    "    \n",
    "    if(inference_type=='exact'):\n",
    "        if(len(query.values) ==1):\n",
    "            return 0\n",
    "        else:\n",
    "            return query.values[1]\n",
    "        \n",
    "    \n",
    "    # probability of having a pit in target position\n",
    "    return query\n",
    "\n"
   ]
  },
  {
   "cell_type": "markdown",
   "metadata": {},
   "source": [
    "#### Implementation of an interface to detect the feasible moves for the actual position of the player (skip if not interested)\n",
    "With the following code the possible moves that the player can do are automatically detected (they can be at most four: left, right, up, down) and for each of them the probability of getting in a pit is computed through the creation of a bayes network for each of them (in the way that is done for a single position in the cell before this one). "
   ]
  },
  {
   "cell_type": "code",
   "execution_count": 3,
   "metadata": {},
   "outputs": [],
   "source": [
    "import time\n",
    "\n",
    "def get_player_moves(game,print_verbose, inference_type=\"exact\", n_samples = 10000):\n",
    "    \n",
    "    start_time = time.perf_counter()\n",
    "    moves = dict()\n",
    "    weighted = dict()\n",
    "    sum_ = 0\n",
    "    if (game.player_pos[0]-1 >= 0): # up\n",
    "        moves['UP'] = get_bayesnet_by_node(game,(game.player_pos[0]-1,game.player_pos[1]), print_verbose, inference_type, n_samples)\n",
    "        sum_ += moves['UP'] \n",
    "    if (game.player_pos[0]+1 < game.table_size): #down\n",
    "        moves['DOWN']=get_bayesnet_by_node(game,(game.player_pos[0]+1,game.player_pos[1]), print_verbose, inference_type, n_samples)\n",
    "        sum_ += moves['DOWN']\n",
    "    if (game.player_pos[1]+1 < game.table_size): #right\n",
    "        moves['RIGHT']=get_bayesnet_by_node(game,(game.player_pos[0],game.player_pos[1]+1), print_verbose, inference_type, n_samples)\n",
    "        sum_ += moves['RIGHT']\n",
    "    if (game.player_pos[1]-1 >= 0): #left\n",
    "        moves['LEFT']=get_bayesnet_by_node(game,(game.player_pos[0],game.player_pos[1]-1), print_verbose, inference_type, n_samples)\n",
    "        sum_ += moves['LEFT']\n",
    "        \n",
    "    end_time = time.perf_counter()\n",
    "    \n",
    "    elapsed_time = end_time - start_time\n",
    "    \n",
    "    if (print_verbose):\n",
    "        print(\"#################################################\")\n",
    "    \n",
    "    return moves, elapsed_time\n",
    "\n"
   ]
  },
  {
   "cell_type": "markdown",
   "metadata": {},
   "source": [
    "### Proving the functioning of this tool with an example"
   ]
  },
  {
   "cell_type": "markdown",
   "metadata": {},
   "source": [
    "First of all, we have to generate a game board - using `example=True` i generate a default 10x10 table with one pit in position (7,2), a treasure (6,4) and a player with starting position (9,0). \n",
    "- The visited positions are marked with red points with blue border (the player is aware just of the states of these cells)\n",
    "- The actual position of the player is represented by an orange circle with red border\n",
    "- The *breeze* position is represented by a light-grey circle\n",
    "- The *pit* position is represented by a dark-grey circle\n"
   ]
  },
  {
   "cell_type": "code",
   "execution_count": 4,
   "metadata": {},
   "outputs": [
    {
     "name": "stdout",
     "output_type": "stream",
     "text": [
      "## TABLE GENERATION ##\n",
      "## GAME STARTED ##\n"
     ]
    }
   ],
   "source": [
    "#game = Game(table_size = 10, n_pits = 6, n_treasures = 1)\n",
    "game = Game(example=True)"
   ]
  },
  {
   "cell_type": "markdown",
   "metadata": {},
   "source": [
    "Then, we make 3 moves just to gain some knowledge: up, right, right."
   ]
  },
  {
   "cell_type": "code",
   "execution_count": 5,
   "metadata": {},
   "outputs": [
    {
     "data": {
      "image/png": "[encoded data removed]",
      "text/plain": [
       "<Figure size 432x288 with 1 Axes>"
      ]
     },
     "metadata": {
      "needs_background": "light"
     },
     "output_type": "display_data"
    },
    {
     "data": {
      "image/png": "[encoded data removed]",
      "text/plain": [
       "<Figure size 432x288 with 1 Axes>"
      ]
     },
     "metadata": {
      "needs_background": "light"
     },
     "output_type": "display_data"
    },
    {
     "data": {
      "image/png": "[encoded data removed]",
      "text/plain": [
       "<Figure size 432x288 with 1 Axes>"
      ]
     },
     "metadata": {
      "needs_background": "light"
     },
     "output_type": "display_data"
    },
    {
     "data": {
      "text/plain": [
       "<__main__.Game at 0x22953e332c8>"
      ]
     },
     "execution_count": 5,
     "metadata": {},
     "output_type": "execute_result"
    }
   ],
   "source": [
    "game.move_up()\n",
    "game.move_right()\n",
    "game.move_right()"
   ]
  },
  {
   "cell_type": "markdown",
   "metadata": {},
   "source": [
    "We ask for $P(pit)$ for the left position to see how the CPDs an the BN are generated:"
   ]
  },
  {
   "cell_type": "code",
   "execution_count": 6,
   "metadata": {},
   "outputs": [
    {
     "name": "stdout",
     "output_type": "stream",
     "text": [
      "###### COMPUTING PROBABILITY OF HAVING A PIT IN POSITION (7, 2) ######\n",
      "\n",
      "+------------------+---------------+-----+---------------+---------------+---------------+\n",
      "| Pit_(7, 3)       | Pit_(7, 3)(0) | ... | Pit_(7, 3)(1) | Pit_(7, 3)(1) | Pit_(7, 3)(1) |\n",
      "+------------------+---------------+-----+---------------+---------------+---------------+\n",
      "| Pit_(7, 2)       | Pit_(7, 2)(0) | ... | Pit_(7, 2)(1) | Pit_(7, 2)(1) | Pit_(7, 2)(1) |\n",
      "+------------------+---------------+-----+---------------+---------------+---------------+\n",
      "| Pit_(8, 3)       | Pit_(8, 3)(0) | ... | Pit_(8, 3)(1) | Pit_(8, 3)(1) | Pit_(8, 3)(1) |\n",
      "+------------------+---------------+-----+---------------+---------------+---------------+\n",
      "| Pit_(6, 3)       | Pit_(6, 3)(0) | ... | Pit_(6, 3)(0) | Pit_(6, 3)(1) | Pit_(6, 3)(1) |\n",
      "+------------------+---------------+-----+---------------+---------------+---------------+\n",
      "| Pit_(7, 4)       | Pit_(7, 4)(0) | ... | Pit_(7, 4)(1) | Pit_(7, 4)(0) | Pit_(7, 4)(1) |\n",
      "+------------------+---------------+-----+---------------+---------------+---------------+\n",
      "| Breeze_(7, 3)(0) | 1.0           | ... | 1.0           | 1.0           | 1.0           |\n",
      "+------------------+---------------+-----+---------------+---------------+---------------+\n",
      "| Breeze_(7, 3)(1) | 0.0           | ... | 0.0           | 0.0           | 0.0           |\n",
      "+------------------+---------------+-----+---------------+---------------+---------------+\n",
      "+---------------+-----------+\n",
      "| Pit_(9, 2)(0) | 0.947917  |\n",
      "+---------------+-----------+\n",
      "| Pit_(9, 2)(1) | 0.0520833 |\n",
      "+---------------+-----------+\n",
      "+---------------+-----------+\n",
      "| Pit_(8, 2)(0) | 0.947917  |\n",
      "+---------------+-----------+\n",
      "| Pit_(8, 2)(1) | 0.0520833 |\n",
      "+---------------+-----------+\n",
      "+------------------+---------------+-----+---------------+---------------+---------------+\n",
      "| Pit_(6, 2)       | Pit_(6, 2)(0) | ... | Pit_(6, 2)(1) | Pit_(6, 2)(1) | Pit_(6, 2)(1) |\n",
      "+------------------+---------------+-----+---------------+---------------+---------------+\n",
      "| Pit_(7, 2)       | Pit_(7, 2)(0) | ... | Pit_(7, 2)(1) | Pit_(7, 2)(1) | Pit_(7, 2)(1) |\n",
      "+------------------+---------------+-----+---------------+---------------+---------------+\n",
      "| Pit_(5, 2)       | Pit_(5, 2)(0) | ... | Pit_(5, 2)(1) | Pit_(5, 2)(1) | Pit_(5, 2)(1) |\n",
      "+------------------+---------------+-----+---------------+---------------+---------------+\n",
      "| Pit_(6, 1)       | Pit_(6, 1)(0) | ... | Pit_(6, 1)(0) | Pit_(6, 1)(1) | Pit_(6, 1)(1) |\n",
      "+------------------+---------------+-----+---------------+---------------+---------------+\n",
      "| Pit_(6, 3)       | Pit_(6, 3)(0) | ... | Pit_(6, 3)(1) | Pit_(6, 3)(0) | Pit_(6, 3)(1) |\n",
      "+------------------+---------------+-----+---------------+---------------+---------------+\n",
      "| Breeze_(6, 2)(0) | 1.0           | ... | 1.0           | 1.0           | 1.0           |\n",
      "+------------------+---------------+-----+---------------+---------------+---------------+\n",
      "| Breeze_(6, 2)(1) | 0.0           | ... | 0.0           | 0.0           | 0.0           |\n",
      "+------------------+---------------+-----+---------------+---------------+---------------+\n",
      "+------------------+---------------+-----+---------------+---------------+---------------+\n",
      "| Pit_(7, 1)       | Pit_(7, 1)(0) | ... | Pit_(7, 1)(1) | Pit_(7, 1)(1) | Pit_(7, 1)(1) |\n",
      "+------------------+---------------+-----+---------------+---------------+---------------+\n",
      "| Pit_(7, 2)       | Pit_(7, 2)(0) | ... | Pit_(7, 2)(1) | Pit_(7, 2)(1) | Pit_(7, 2)(1) |\n",
      "+------------------+---------------+-----+---------------+---------------+---------------+\n",
      "| Pit_(7, 0)       | Pit_(7, 0)(0) | ... | Pit_(7, 0)(1) | Pit_(7, 0)(1) | Pit_(7, 0)(1) |\n",
      "+------------------+---------------+-----+---------------+---------------+---------------+\n",
      "| Pit_(6, 1)       | Pit_(6, 1)(0) | ... | Pit_(6, 1)(0) | Pit_(6, 1)(1) | Pit_(6, 1)(1) |\n",
      "+------------------+---------------+-----+---------------+---------------+---------------+\n",
      "| Pit_(8, 1)       | Pit_(8, 1)(0) | ... | Pit_(8, 1)(1) | Pit_(8, 1)(0) | Pit_(8, 1)(1) |\n",
      "+------------------+---------------+-----+---------------+---------------+---------------+\n",
      "| Breeze_(7, 1)(0) | 1.0           | ... | 1.0           | 1.0           | 1.0           |\n",
      "+------------------+---------------+-----+---------------+---------------+---------------+\n",
      "| Breeze_(7, 1)(1) | 0.0           | ... | 0.0           | 0.0           | 0.0           |\n",
      "+------------------+---------------+-----+---------------+---------------+---------------+\n",
      "+---------------+-----------+\n",
      "| Pit_(7, 4)(0) | 0.947917  |\n",
      "+---------------+-----------+\n",
      "| Pit_(7, 4)(1) | 0.0520833 |\n",
      "+---------------+-----------+\n",
      "+---------------+-----------+\n",
      "| Pit_(8, 3)(0) | 0.947917  |\n",
      "+---------------+-----------+\n",
      "| Pit_(8, 3)(1) | 0.0520833 |\n",
      "+---------------+-----------+\n",
      "+---------------+-----------+\n",
      "| Pit_(6, 3)(0) | 0.947917  |\n",
      "+---------------+-----------+\n",
      "| Pit_(6, 3)(1) | 0.0520833 |\n",
      "+---------------+-----------+\n",
      "+---------------+-----------+\n",
      "| Pit_(7, 1)(0) | 0.947917  |\n",
      "+---------------+-----------+\n",
      "| Pit_(7, 1)(1) | 0.0520833 |\n",
      "+---------------+-----------+\n",
      "+---------------+-----------+\n",
      "| Pit_(5, 2)(0) | 0.947917  |\n",
      "+---------------+-----------+\n",
      "| Pit_(5, 2)(1) | 0.0520833 |\n",
      "+---------------+-----------+\n",
      "+---------------+-----------+\n",
      "| Pit_(8, 1)(0) | 0.947917  |\n",
      "+---------------+-----------+\n",
      "| Pit_(8, 1)(1) | 0.0520833 |\n",
      "+---------------+-----------+\n",
      "+---------------+-----------+\n",
      "| Pit_(6, 2)(0) | 0.947917  |\n",
      "+---------------+-----------+\n",
      "| Pit_(6, 2)(1) | 0.0520833 |\n",
      "+---------------+-----------+\n",
      "+---------------+-----------+\n",
      "| Pit_(7, 2)(0) | 0.947917  |\n",
      "+---------------+-----------+\n",
      "| Pit_(7, 2)(1) | 0.0520833 |\n",
      "+---------------+-----------+\n",
      "+---------------+-----------+\n",
      "| Pit_(7, 0)(0) | 0.947917  |\n",
      "+---------------+-----------+\n",
      "| Pit_(7, 0)(1) | 0.0520833 |\n",
      "+---------------+-----------+\n",
      "+---------------+-----------+\n",
      "| Pit_(7, 3)(0) | 0.947917  |\n",
      "+---------------+-----------+\n",
      "| Pit_(7, 3)(1) | 0.0520833 |\n",
      "+---------------+-----------+\n",
      "+---------------+-----------+\n",
      "| Pit_(6, 1)(0) | 0.947917  |\n",
      "+---------------+-----------+\n",
      "| Pit_(6, 1)(1) | 0.0520833 |\n",
      "+---------------+-----------+\n",
      "+------------------+---------------+-----+---------------+---------------+---------------+\n",
      "| Pit_(8, 2)       | Pit_(8, 2)(0) | ... | Pit_(8, 2)(1) | Pit_(8, 2)(1) | Pit_(8, 2)(1) |\n",
      "+------------------+---------------+-----+---------------+---------------+---------------+\n",
      "| Pit_(7, 2)       | Pit_(7, 2)(0) | ... | Pit_(7, 2)(1) | Pit_(7, 2)(1) | Pit_(7, 2)(1) |\n",
      "+------------------+---------------+-----+---------------+---------------+---------------+\n",
      "| Pit_(8, 1)       | Pit_(8, 1)(0) | ... | Pit_(8, 1)(1) | Pit_(8, 1)(1) | Pit_(8, 1)(1) |\n",
      "+------------------+---------------+-----+---------------+---------------+---------------+\n",
      "| Pit_(8, 3)       | Pit_(8, 3)(0) | ... | Pit_(8, 3)(0) | Pit_(8, 3)(1) | Pit_(8, 3)(1) |\n",
      "+------------------+---------------+-----+---------------+---------------+---------------+\n",
      "| Pit_(9, 2)       | Pit_(9, 2)(0) | ... | Pit_(9, 2)(1) | Pit_(9, 2)(0) | Pit_(9, 2)(1) |\n",
      "+------------------+---------------+-----+---------------+---------------+---------------+\n",
      "| Breeze_(8, 2)(0) | 1.0           | ... | 1.0           | 1.0           | 1.0           |\n",
      "+------------------+---------------+-----+---------------+---------------+---------------+\n",
      "| Breeze_(8, 2)(1) | 0.0           | ... | 0.0           | 0.0           | 0.0           |\n",
      "+------------------+---------------+-----+---------------+---------------+---------------+\n"
     ]
    },
    {
     "data": {
      "image/png": "[encoded data removed]",
      "text/plain": [
       "<Figure size 432x288 with 1 Axes>"
      ]
     },
     "metadata": {},
     "output_type": "display_data"
    },
    {
     "data": {
      "application/vnd.jupyter.widget-view+json": {
       "model_id": "020798a8d153473287bcec60a93d6c11",
       "version_major": 2,
       "version_minor": 0
      },
      "text/plain": [
       "HBox(children=(FloatProgress(value=0.0, max=4.0), HTML(value='')))"
      ]
     },
     "metadata": {},
     "output_type": "display_data"
    },
    {
     "name": "stdout",
     "output_type": "stream",
     "text": [
      "\n"
     ]
    },
    {
     "data": {
      "application/vnd.jupyter.widget-view+json": {
       "model_id": "0a05e0643ac74b79926b36d85f46d214",
       "version_major": 2,
       "version_minor": 0
      },
      "text/plain": [
       "HBox(children=(FloatProgress(value=0.0, max=4.0), HTML(value='')))"
      ]
     },
     "metadata": {},
     "output_type": "display_data"
    },
    {
     "name": "stdout",
     "output_type": "stream",
     "text": [
      "\n",
      "+---------------+-------------------+\n",
      "| Pit_(7, 2)    |   phi(Pit_(7, 2)) |\n",
      "+===============+===================+\n",
      "| Pit_(7, 2)(0) |            0.7296 |\n",
      "+---------------+-------------------+\n",
      "| Pit_(7, 2)(1) |            0.2704 |\n",
      "+---------------+-------------------+\n",
      "Probability of getting in a pit moving UP:  0.2704011291164047\n"
     ]
    }
   ],
   "source": [
    "print(\"Probability of getting in a pit moving UP: \", get_bayesnet_by_node(game, target=(game.player_pos[0]-1,game.player_pos[1]), print_verbose=True))"
   ]
  },
  {
   "cell_type": "markdown",
   "metadata": {},
   "source": [
    "Now we ask for $P(pit)$ for all the possible positions to which the player can move without explicitly printing all the tables and all the networks"
   ]
  },
  {
   "cell_type": "code",
   "execution_count": 7,
   "metadata": {},
   "outputs": [
    {
     "name": "stdout",
     "output_type": "stream",
     "text": [
      "Probability of falling in a Pit by move:  ({'UP': 0.2704011291164047, 'DOWN': 0.2704011291164047, 'RIGHT': 0.2704011291164047, 'LEFT': 0.0}, 0.10425030000000035)\n"
     ]
    }
   ],
   "source": [
    "print(\"Probability of falling in a Pit by move: \",get_player_moves(game, print_verbose=False, inference_type=\"exact\"))"
   ]
  },
  {
   "cell_type": "markdown",
   "metadata": {},
   "source": [
    "We have an equal probability of getting into a pit if we choose down, right or up. This is quite intuitive because if we're feeling *breeze* there's at least one pit in one of the 4 neighbouring positions and if we don't have other knowledge each pit can be with the same probability in each of these positions.\n",
    "\n",
    "We decide to go right, because going backwards (left) we would come back to an already visited path (we could have chosen down or up because there's the same probability of finding a pit). "
   ]
  },
  {
   "cell_type": "code",
   "execution_count": 8,
   "metadata": {},
   "outputs": [
    {
     "data": {
      "image/png": "[encoded data removed]",
      "text/plain": [
       "<Figure size 432x288 with 1 Axes>"
      ]
     },
     "metadata": {
      "needs_background": "light"
     },
     "output_type": "display_data"
    }
   ],
   "source": [
    "game = game.move_right()"
   ]
  },
  {
   "cell_type": "markdown",
   "metadata": {},
   "source": [
    "The player is now in a *safe* position (as the already visited (9,0),(8,0) ad (8,1)).\n",
    "We decide to go up."
   ]
  },
  {
   "cell_type": "code",
   "execution_count": 9,
   "metadata": {},
   "outputs": [
    {
     "data": {
      "image/png": "[encoded data removed]",
      "text/plain": [
       "<Figure size 432x288 with 1 Axes>"
      ]
     },
     "metadata": {
      "needs_background": "light"
     },
     "output_type": "display_data"
    },
    {
     "name": "stdout",
     "output_type": "stream",
     "text": [
      "Probability of falling in a Pit by move:  ({'UP': 0.27085459106723525, 'DOWN': 0.0, 'RIGHT': 0.27085459106723525, 'LEFT': 0.47002833680149225}, 0.1212895000000005)\n"
     ]
    }
   ],
   "source": [
    "game = game.move_up()\n",
    "#call bayesian nets to decide next position\n",
    "print(\"Probability of falling in a Pit by move: \", get_player_moves(game, print_verbose=False))"
   ]
  },
  {
   "cell_type": "markdown",
   "metadata": {},
   "source": [
    "The player is clearly not aware of having a pit at its left, but thanks to the Built bayes networks it is able to sense an higher probability of having a pit in that position (in comparison to the other possible moves), because of how the pit structure was geometrically described: knowing that there's *breeze* in (8,2) and (7,3) it is likely to have a pit in (7,2)."
   ]
  },
  {
   "cell_type": "markdown",
   "metadata": {},
   "source": [
    "# Exact Inference vs Approximate Inference\n",
    "In this section we will try to compare two possible methods for making inference by means of reliability and time. *Exact Inference* is the usual method that we apply through Variable Elimination, its results are exact and correspond to the results we would have obtained using a big CPT including all of the possible node states. Even if using a BN is in general better than using a single CPT, sometimes it is useful to apply *Approximate Inference* methods, but in that case (if the samples are in small number) the results can be inaccurate -  on the other side, if we use too many samples the processing time can be much higher than the one taken by Exact Inference methods.\n",
    "\n",
    "Is it worth to use *Approximate Inference* in this case? \n",
    "Below I try to ask this question with a benchmark."
   ]
  },
  {
   "cell_type": "code",
   "execution_count": 10,
   "metadata": {},
   "outputs": [
    {
     "data": {
      "image/png": "[encoded data removed]",
      "text/plain": [
       "<Figure size 432x288 with 1 Axes>"
      ]
     },
     "metadata": {
      "needs_background": "light"
     },
     "output_type": "display_data"
    },
    {
     "data": {
      "image/png": "[encoded data removed]",
      "text/plain": [
       "<Figure size 720x504 with 4 Axes>"
      ]
     },
     "metadata": {
      "needs_background": "light"
     },
     "output_type": "display_data"
    }
   ],
   "source": [
    "import numpy as np\n",
    "\n",
    "def plot_comparison(rep=20, sample_n = [10, 100, 500, 1000]):\n",
    "    '''\n",
    "    This function plots the graph comparing exact and approximated inference by means of time and error of inexact \n",
    "    inference wrt to exact inference values.\n",
    "    \n",
    "    input: \n",
    "        rep:the number of repetitions (timers are affected by the way the cpu tasks are scheduled)\n",
    "            setting a high number of repetitions may result in more reliable results but is also a mult factor\n",
    "            of the total time.\n",
    "        sample_n: an array with the number of samples to be generated for approximated inference \n",
    "    \n",
    "    output:\n",
    "        The elapsed time (exacts vs inexact inference) plot.\n",
    "        The abs. value of the error between exact and inexact values for all the 4 directions. \n",
    "        \n",
    "    '''\n",
    "    # performing exact inference\n",
    "    exact_t = []\n",
    "    for i in range(0,rep+1):\n",
    "        exact_dict,sample_exact_t = get_player_moves(game, print_verbose=False, inference_type=\"exact\")\n",
    "        exact_t.append(sample_exact_t)\n",
    "    \n",
    "    exact_time = np.average(exact_t)\n",
    " \n",
    "    times_res = []\n",
    "    left_res = []\n",
    "    right_res = []\n",
    "    up_res = []\n",
    "    down_res = []\n",
    "    \n",
    "    # performing sampling multiple times\n",
    "    for samples in sample_n:\n",
    "        times = []\n",
    "        left_ = []\n",
    "        right_ = []\n",
    "        up_ = []\n",
    "        down_ = []\n",
    "\n",
    "        for i  in range(0,rep+1):\n",
    "            move_dict, time_ = get_player_moves(game, print_verbose=False, n_samples = samples, inference_type=\"approx\")\n",
    "            left_.append(move_dict['LEFT'])\n",
    "            right_.append(move_dict['RIGHT'])\n",
    "            up_.append(move_dict['UP'])\n",
    "            down_.append(move_dict['DOWN'])\n",
    "            times.append(time_)\n",
    "\n",
    "        times_res.append(np.average(times))\n",
    "        left_res.append(np.linalg.norm(abs(exact_dict['LEFT'] - left_),2))\n",
    "        right_res.append(np.linalg.norm(abs(exact_dict['RIGHT'] - right_),2))\n",
    "        up_res.append(np.linalg.norm(abs(exact_dict['UP'] - up_),2))\n",
    "        down_res.append(np.linalg.norm(abs(exact_dict['DOWN'] - down_),2))\n",
    "\n",
    "    plt.plot(sample_n, times_res, marker=\".\", markersize=13, markerfacecolor=\"orange\", label = \"Likelihood Weighting Time\") \n",
    "    plt.axhline(y=exact_time,linewidth=0.5, color='k', label = 'Exact Inference Time')\n",
    "    plt.title(\"Elapsed time (s)\")\n",
    "    plt.legend()\n",
    "\n",
    "    plt.show()\n",
    "\n",
    "    fig, ax = plt.subplots(2,2, figsize=(10, 7))       \n",
    "    ax[0][0].plot(sample_n, up_res, color='red' , label= 'Likelihood Weighting error (2-norm)')\n",
    "    ax[0][0].set_title(\"P(pit) - UP position\")\n",
    "    ax[0][0].legend()\n",
    "    ax[0][1].plot(sample_n, right_res, color='blue', label= 'Likelihood Weighting error (2-norm)')\n",
    "    ax[0][1].set_title(\"P(pit) - RIGHT position\")\n",
    "    ax[0][1].legend()\n",
    "    ax[1][0].plot(sample_n, left_res, color='green', label= 'Likelihood Weighting error (2-norm)')\n",
    "    ax[1][0].set_title(\"P(pit) - LEFT position\")\n",
    "    ax[1][0].legend()\n",
    "    ax[1][1].plot(sample_n, down_res, color='orange', label= 'Likelihood Weighting error (2-norm)')\n",
    "    ax[1][1].set_title(\"P(pit) - DOWN position\")\n",
    "    ax[1][1].legend()\n",
    "    \n",
    "    plt.show()\n",
    "\n",
    "plot_comparison(rep=500, sample_n = [10, 100, 500, 1000, 1500, 3000, 4000, 5000])"
   ]
  },
  {
   "cell_type": "markdown",
   "metadata": {},
   "source": [
    "The built model is already quite small and the variables corresponding to the nodes are binary (so they have relatively small tables), therefore there's no advantage in using *Likelihood Weighting* or any other similar approximate inference technique - consider that *rejection sampling* efficiency is in general lower than LW."
   ]
  },
  {
   "cell_type": "markdown",
   "metadata": {},
   "source": [
    "## Conclusions (summary)\n",
    "- I've implemented the logic of the game board\n",
    "- **I've implemented and presented a Bayes Network - based solution as decision support tool in an enviroment affected by uncertainty. The Bayes network was built following causality means and, in particular, the features of a geometric pattern.**\n",
    "- **I've presented a basic example and verified its expected behavior.**\n",
    "- I've compared ***exact inference* and *inexact (approximated) inference*** for this BN use case "
   ]
  }
 ],
 "metadata": {
  "kernelspec": {
   "display_name": "Python 3",
   "language": "python",
   "name": "python3"
  },
  "language_info": {
   "codemirror_mode": {
    "name": "ipython",
    "version": 3
   },
   "file_extension": ".py",
   "mimetype": "text/x-python",
   "name": "python",
   "nbconvert_exporter": "python",
   "pygments_lexer": "ipython3",
   "version": "3.7.6"
  }
 },
 "nbformat": 4,
 "nbformat_minor": 5
}
